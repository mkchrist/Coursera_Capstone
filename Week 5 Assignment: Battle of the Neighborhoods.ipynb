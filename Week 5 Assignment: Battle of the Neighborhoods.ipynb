{
    "cells": [
        {
            "cell_type": "markdown",
            "metadata": {},
            "source": "## Geospatial Analysis of Sacramento Region for new Pizzeria\n\n### Week 5 Assignment: Battle of the Neighborhoods"
        },
        {
            "cell_type": "markdown",
            "metadata": {},
            "source": "My clients are moving from the east coast back to Sacramento, CA to be close with their extended family. They currently run a successful Pizzeria in New Jersey which they will be selling to fund a new restaurant in the Sacramento region. They have hired my consulting firm to provide assistance to help them determine what part of the region would be the ideal spot to open their new restaurant. Optimally, they would like to open their restaurant in a region that is near event venues, corporate centers and recreational activities while also minimizing competition by opening in an area that lacks in current Pizzeria restaurants.  They really love downtown Sacramento, but they also hear the entire region is growing and there may be great opportunities within a 20 mile radius of the city."
        },
        {
            "cell_type": "markdown",
            "metadata": {},
            "source": "- __Part 1 explore locations and venues within the City of Sacramento__   \n   \n\n"
        },
        {
            "cell_type": "markdown",
            "metadata": {},
            "source": "- __Part 2 explore regions within 20 miles of Sacramento__\n    - Look at U.S. Consensus data for top 20 most populated cities near Sacramento\n    - Explore locations and venues within these top 20 cities"
        },
        {
            "cell_type": "markdown",
            "metadata": {},
            "source": "# __PART 1: THE CITY OF SACRAMENTO__"
        },
        {
            "cell_type": "code",
            "execution_count": null,
            "metadata": {},
            "outputs": [],
            "source": "import itertools\nimport pandas as pd\npd.set_option('display.max_columns', None)\npd.set_option('display.max_rows', None)\nfrom urllib.request import urlopen\nfrom bs4 import BeautifulSoup\nimport numpy as np\nimport json \nfrom geopy.geocoders import Nominatim\nimport requests\nfrom pandas.io.json import json_normalize\nimport matplotlib.cm as cm\nimport matplotlib.colors as colors\nfrom sklearn.cluster import KMeans\n!pip install folium\nimport folium\nimport matplotlib.pyplot as plt\nfrom matplotlib import pyplot\n%matplotlib inline\nimport seaborn as sns\n\nprint('Libraries imported.')"
        },
        {
            "cell_type": "markdown",
            "metadata": {},
            "source": "## Let's Explore the City of Sacramento First \n- I identified a website that defined the __13 Top-Rated Tourist Attractions__ & Things to Do in the city of Sacramento, CA\n    - URL: https://www.planetware.com/tourist-attractions-/sacramento-us-ca-sc.htm   \n   \n"
        },
        {
            "cell_type": "markdown",
            "metadata": {},
            "source": "- I thought these __ATTRACTIONS__ would be a great starting point in our investigation for my clients:\n    - Explore the Area around each one of these top Attractions\n    - Group the neaby venues into categories and rank them based on their popularity (most frequented)\n    - perform a cluster analysis using K-means clustering and try to get additional insight on venue categories "
        },
        {
            "cell_type": "code",
            "execution_count": null,
            "metadata": {},
            "outputs": [],
            "source": "# Top 13 Top-Rated Tourist Attractions website, read with BeautifulSoup\n\nurl = urlopen(r\"https://www.planetware.com/tourist-attractions-/sacramento-us-ca-sc.htm\")\nsoup = BeautifulSoup(url, 'lxml')\nsoup"
        },
        {
            "cell_type": "code",
            "execution_count": null,
            "metadata": {
                "scrolled": true
            },
            "outputs": [],
            "source": "#Scrape Attraction Names from website\n\nAttraction_Name = []\n\nfor div in soup.find_all('div', class_='article_block site'):\n    Attraction_Name.append(div.find_all('h2')[0].get_text().strip('\\n'))\n\nfor i in range(len(Attraction_Name)):\n    Attraction_Name[i]= Attraction_Name[i][4:].strip(',')\n\nfor i in range(len(Attraction_Name)):\n    if i == 9 or i == 10 or i == 11:\n        Attraction_Name[i] = Attraction_Name[i][1:]\n    else:\n        Attraction_Name[i] = Attraction_Name[i][0:]\n        \nAttraction_Name = Attraction_Name[:-2]\nAttraction_Name"
        },
        {
            "cell_type": "code",
            "execution_count": null,
            "metadata": {
                "scrolled": true
            },
            "outputs": [],
            "source": "#Some of the attractions failed my search to geolocator. So as my loop failed, I identified and had to update the culprits with code\n#These are the Attractions that required an updated name before the geolocator identified the long, Lat coordinates\n\nAttraction_Name[1]= 'Capital Park Sacramento'\nAttraction_Name[2]= 'Sacramento Crocker Museum'\nAttraction_Name[8]= 'Cathedral of the Blessed Sacrament Sacramento'\nAttraction_Name[9]= 'California State Indian Museum'\nAttraction_Name[10]= 'Midtown 1915 O St, Sacramento, CA 95811'\nAttraction_Name[11]= 'American River Bike Trail'\nAttraction_Name"
        },
        {
            "cell_type": "code",
            "execution_count": null,
            "metadata": {},
            "outputs": [],
            "source": "type(Attraction_Name)"
        },
        {
            "cell_type": "code",
            "execution_count": null,
            "metadata": {
                "scrolled": false
            },
            "outputs": [],
            "source": "# Used geolocator and used a loop to search for, intentify longitude and latitude, then populate a dataframe\nLatitude = []\nLongitude = []\n\nfor name in Attraction_Name:\n    geolocator = Nominatim(user_agent=\"foursquare_agent\")\n    location = geolocator.geocode(name)\n    latitude = location.latitude\n    longitude = location.longitude\n    print(f'{name}: [{latitude}, {longitude}]')\n    Latitude.append(latitude)\n    Longitude.append(longitude)        \n        \nprint('\\n')\nprint('DataFrames Latitude & Longitude have been updated.')"
        },
        {
            "cell_type": "code",
            "execution_count": null,
            "metadata": {},
            "outputs": [],
            "source": "#fix lat long coordinates for Capital Park since geolocator came up with a location in Phillipines\n\nLatitude[1] = float(38.57605)\nLongitude[1] = float(-121.49072)\nprint(Latitude[1])\nprint(Longitude[1])"
        },
        {
            "cell_type": "code",
            "execution_count": null,
            "metadata": {
                "scrolled": true
            },
            "outputs": [],
            "source": "#Time to merge the three seperate lists into one\nAttractions = pd.DataFrame({'Attraction':Attraction_Name, 'Latitude':Latitude, 'Longitude': Longitude})\nAttractions"
        },
        {
            "cell_type": "code",
            "execution_count": null,
            "metadata": {},
            "outputs": [],
            "source": "Attractions.shape"
        },
        {
            "cell_type": "markdown",
            "metadata": {},
            "source": "## Use location coordinates to explore Attractions on an interactive map"
        },
        {
            "cell_type": "code",
            "execution_count": null,
            "metadata": {},
            "outputs": [],
            "source": "# Identify the Latitude, Longitude for Sacramento, CA\n\naddress = 'Sacramento, CA'\n\ngeolocator = Nominatim(user_agent=\"coursera\")\nlocation = geolocator.geocode(address)\nlatitude = location.latitude\nlongitude = location.longitude\nprint('The geograpical coordinates for Sacramento are {}, {}.'.format(latitude, longitude))"
        },
        {
            "cell_type": "code",
            "execution_count": null,
            "metadata": {},
            "outputs": [],
            "source": "# Create a general map of Sacramento\nmap_sac = folium.Map(location=[latitude, longitude], zoom_start=13)\n\n# add markers to map\nfor lat, lng, label in zip(Attractions['Latitude'], Attractions['Longitude'], Attractions['Attraction']):\n    label = folium.Popup(label, parse_html=True)\n    folium.CircleMarker(\n        [lat, lng],\n        radius=7,\n        popup=label,\n        color='blue',\n        fill=True,\n        fill_color='#3186cc',\n        fill_opacity=0.7,\n        parse_html=False).add_to(map_sac)  \n    \nmap_sac"
        },
        {
            "cell_type": "code",
            "execution_count": null,
            "metadata": {},
            "outputs": [],
            "source": "# Lets explore the venues that surround each of these Attractions\n# We will do this using Foursquare\n\nCLIENT_ID = 'SEB12VRXXLTFKQYNSB1DM2LAZEHFK2TVS02TL20ZYWH3IMSN' # your Foursquare ID\nCLIENT_SECRET = '3E3LQBASDCDZAZOMI4JJRSLVFG45JOXXMFPIHKG1FF1ZM3Z4' # your Foursquare Secret\nACCESS_TOKEN = 'KSSMIWCOS5KDN4UV4KBSAAKZC2XOMHQEEWP01IAS4M2HYIH1' # your FourSquare Access Token\nVERSION = '20180605' # Foursquare API version\nLIMIT = 100 # A default Foursquare API limit value\n\nprint('Your credentails:')\nprint('CLIENT_ID: ' + CLIENT_ID)\nprint('CLIENT_SECRET:' + CLIENT_SECRET)"
        },
        {
            "cell_type": "markdown",
            "metadata": {},
            "source": "## Now let's identify the top 100 venues around each Attraction"
        },
        {
            "cell_type": "code",
            "execution_count": null,
            "metadata": {},
            "outputs": [],
            "source": "def getNearbyVenues(names, latitudes, longitudes, radius=500):\n    \n    venues_list=[]\n    for name, lat, lng in zip(names, latitudes, longitudes):\n        print(name)\n            \n        # create the API request URL\n        url = 'https://api.foursquare.com/v2/venues/explore?&client_id={}&client_secret={}&v={}&ll={},{}&radius={}&limit={}'.format(\n            CLIENT_ID, \n            CLIENT_SECRET, \n            VERSION, \n            lat, \n            lng, \n            radius, \n            LIMIT)\n            \n        # make the GET request\n        results = requests.get(url).json()[\"response\"]['groups'][0]['items']\n                \n        # return only relevant information for each nearby venue\n        venues_list.append([(\n            name, \n            lat, \n            lng, \n            v['venue']['name'], \n            v['venue']['location']['lat'], \n            v['venue']['location']['lng'],  \n            v['venue']['categories'][0]['name']) for v in results])\n\n    nearby_venues = pd.DataFrame([item for venue_list in venues_list for item in venue_list])\n    nearby_venues.columns = ['Neighborhood', \n                  'Neighborhood Latitude', \n                  'Neighborhood Longitude', \n                  'Venue', \n                  'Venue Latitude', \n                  'Venue Longitude', \n                  'Venue Category']\n    \n    return(nearby_venues)"
        },
        {
            "cell_type": "code",
            "execution_count": null,
            "metadata": {},
            "outputs": [],
            "source": "sac_venues = getNearbyVenues(names=Attractions['Attraction'], \n                                 latitudes=Attractions['Latitude'], \n                                 longitudes=Attractions['Longitude'], \n                                 radius=500)"
        },
        {
            "cell_type": "code",
            "execution_count": null,
            "metadata": {},
            "outputs": [],
            "source": "# We identified 549 venues are within 500 feet from all 13 Attractions!\nsac_venues.shape"
        },
        {
            "cell_type": "code",
            "execution_count": null,
            "metadata": {},
            "outputs": [],
            "source": "sac_venues.head()"
        },
        {
            "cell_type": "code",
            "execution_count": null,
            "metadata": {},
            "outputs": [],
            "source": "print('There are {} uniques categories of venues.'.format(len(sac_venues['Venue Category'].unique())))"
        },
        {
            "cell_type": "markdown",
            "metadata": {},
            "source": "## Lets get a count of how many venues are within 500 feet of each Attraction:\n\n- There looks to be many venues by Capital Park, the Cathedral, in Old Sac and by the Railroad Museum\n- The Caliornia Automobile Museum, the Crocker Museum and the American River Bike Trail seem to be more isolated with less venues"
        },
        {
            "cell_type": "code",
            "execution_count": null,
            "metadata": {},
            "outputs": [],
            "source": "sac_venues.groupby(['Neighborhood']).count()"
        },
        {
            "cell_type": "markdown",
            "metadata": {},
            "source": "## Let's analyse City of Sacramento Attractions and Venues even further!\n- First, I will identify the Top 5 most frequented venue categories around each Attraction\n- Then we can discover the top 10 most popular venues around each Attraction\n- Finally, we can use K-means clustering to map out Attraction groupings to get more insight on the area\n\n### With more insight, we can make a more informed decision on new Pizzeria location!"
        },
        {
            "cell_type": "code",
            "execution_count": null,
            "metadata": {},
            "outputs": [],
            "source": "# First, lets identify the top 5 venue categories for each Attraction using one hot encoding\nsac_onehot = pd.get_dummies(sac_venues[['Venue Category']], prefix=\"\", prefix_sep=\"\")\n\n# add neighborhood column back to dataframe\nsac_onehot['Neighborhood'] =sac_venues['Neighborhood'] \n\nsac_onehot.shape"
        },
        {
            "cell_type": "code",
            "execution_count": null,
            "metadata": {},
            "outputs": [],
            "source": "sac_onehot.head()"
        },
        {
            "cell_type": "code",
            "execution_count": null,
            "metadata": {},
            "outputs": [],
            "source": "#Find the Neighborhood column\nsac_onehot.columns[80]"
        },
        {
            "cell_type": "code",
            "execution_count": null,
            "metadata": {},
            "outputs": [],
            "source": "# move neighborhood column to the first column\nfixed_columns = [sac_onehot.columns[80]] + list(sac_onehot.columns[0:80]) + list(sac_onehot.columns[81:])\nsac_onehot = sac_onehot[fixed_columns]\n\nsac_onehot.head()"
        },
        {
            "cell_type": "code",
            "execution_count": null,
            "metadata": {},
            "outputs": [],
            "source": "#make sure i have the same number of rows and columns (494, 151)\nsac_onehot.shape"
        },
        {
            "cell_type": "code",
            "execution_count": null,
            "metadata": {},
            "outputs": [],
            "source": "# get the mean value of each category around an Attraction\nsac_grouped = sac_onehot.groupby('Neighborhood').mean().reset_index()\nsac_grouped.head()"
        },
        {
            "cell_type": "code",
            "execution_count": null,
            "metadata": {},
            "outputs": [],
            "source": "sac_grouped.shape"
        },
        {
            "cell_type": "markdown",
            "metadata": {},
            "source": "## Top 5 Most Popular Venue Categories for each Attraction location!"
        },
        {
            "cell_type": "code",
            "execution_count": null,
            "metadata": {},
            "outputs": [],
            "source": "# identify the most frequent categories of venues in each Neighborhood\nnum_top_venues = 5\n\nfor hood in sac_grouped['Neighborhood']:\n    print(\"----\"+hood+\"----\")\n    temp = sac_grouped[sac_grouped['Neighborhood'] == hood].T.reset_index()\n    temp.columns = ['venue','freq']\n    temp = temp.iloc[1:]\n    temp['freq'] = temp['freq'].astype(float)\n    temp = temp.round({'freq': 2})\n    print(temp.sort_values('freq', ascending=False).reset_index(drop=True).head(num_top_venues))\n    print('\\n')"
        },
        {
            "cell_type": "markdown",
            "metadata": {},
            "source": "## Time to identify the top 10 most popular VENUES around each of the Attractions!"
        },
        {
            "cell_type": "code",
            "execution_count": null,
            "metadata": {},
            "outputs": [],
            "source": "def return_most_common_venues(row, num_top_venues):\n    row_categories = row.iloc[1:]\n    row_categories_sorted = row_categories.sort_values(ascending=False)\n    \n    return row_categories_sorted.index.values[0:num_top_venues]"
        },
        {
            "cell_type": "code",
            "execution_count": null,
            "metadata": {},
            "outputs": [],
            "source": "num_top_venues = 10\n\nindicators = ['st', 'nd', 'rd']\n\n# create columns according to number of top venues\ncolumns = ['Neighborhood']\nfor ind in np.arange(num_top_venues):\n    try:\n        columns.append('{}{} Most Common Venue'.format(ind+1, indicators[ind]))\n    except:\n        columns.append('{}th Most Common Venue'.format(ind+1))\n\n# create a new dataframe\nneighborhoods_venues_sorted = pd.DataFrame(columns=columns)\nneighborhoods_venues_sorted['Neighborhood'] = sac_grouped['Neighborhood']\n\nfor ind in np.arange(sac_grouped.shape[0]):\n    neighborhoods_venues_sorted.iloc[ind, 1:] = return_most_common_venues(sac_grouped.iloc[ind, :], num_top_venues)\n\nneighborhoods_venues_sorted.rename(columns={\"Neighborhood\":\"Attraction\"}, inplace=True)\nneighborhoods_venues_sorted.head()"
        },
        {
            "cell_type": "markdown",
            "metadata": {},
            "source": "## Let's use K-means Clustering algorithm to create correlated clusters/groupings to gain new insight"
        },
        {
            "cell_type": "code",
            "execution_count": null,
            "metadata": {},
            "outputs": [],
            "source": "# set number of clusters\nkclusters = 5\n\nsac_grouped_clustering = sac_grouped.drop('Neighborhood', 1)\n\n# run k-means clustering\nkmeans = KMeans(n_clusters=kclusters, random_state=0).fit(sac_grouped_clustering)\n\n# check cluster labels generated for each row in the dataframe\nkmeans.labels_[0:10] "
        },
        {
            "cell_type": "code",
            "execution_count": null,
            "metadata": {},
            "outputs": [],
            "source": "sac_grouped.head()"
        },
        {
            "cell_type": "code",
            "execution_count": null,
            "metadata": {},
            "outputs": [],
            "source": "sac_grouped_clustering.head()"
        },
        {
            "cell_type": "code",
            "execution_count": null,
            "metadata": {},
            "outputs": [],
            "source": "# add clustering labels\nneighborhoods_venues_sorted.insert(0, 'Cluster Labels', kmeans.labels_)\n\nsac_merged = Attractions\n\n"
        },
        {
            "cell_type": "code",
            "execution_count": null,
            "metadata": {
                "scrolled": true
            },
            "outputs": [],
            "source": "sac_merged.head()"
        },
        {
            "cell_type": "code",
            "execution_count": null,
            "metadata": {},
            "outputs": [],
            "source": "neighborhoods_venues_sorted"
        },
        {
            "cell_type": "code",
            "execution_count": null,
            "metadata": {},
            "outputs": [],
            "source": "neighborhoods_venues_sorted.head()"
        },
        {
            "cell_type": "code",
            "execution_count": null,
            "metadata": {},
            "outputs": [],
            "source": "# merge sac_grouped with sac data to add latitude/longitude for each neighborhood\nsac_merged = sac_merged.join(neighborhoods_venues_sorted.set_index('Attraction'), on='Attraction')\n\nsac_merged.head(40)   # check the last columns!"
        },
        {
            "cell_type": "code",
            "execution_count": null,
            "metadata": {
                "scrolled": true
            },
            "outputs": [],
            "source": "# create map\nmap_clusters = folium.Map(location=[latitude, longitude], zoom_start=13)\n\n# set color scheme for the clusters\nx = np.arange(kclusters)\nys = [i + x + (i*x)**2 for i in range(kclusters)]\ncolors_array = cm.rainbow(np.linspace(0, 1, len(ys)))\nrainbow = [colors.rgb2hex(i) for i in colors_array]\n\n# add markers to the map\nmarkers_colors = []\nfor lat, lon, poi, cluster in zip(sac_merged['Latitude'], sac_merged['Longitude'], sac_merged['Attraction'], sac_merged['Cluster Labels']):\n    label = folium.Popup(str(poi) + ' Cluster ' + str(cluster), parse_html=True)\n    folium.CircleMarker(\n        [lat, lon],\n        radius=7,\n        popup=label,\n        color=rainbow[cluster-1],\n        fill=True,\n        fill_color=rainbow[cluster-1],\n        fill_opacity=0.7).add_to(map_clusters)\n       \nmap_clusters"
        },
        {
            "cell_type": "markdown",
            "metadata": {},
            "source": "### Cluster 1 California Automobile Museum Area:\n- A Gym, A Cycle studio, a handful of shops\n- Close to the freeway intersection which may be convenient for delivery services.\n- Very close to Old Sacramento on the water, super popular among visitors and locals!"
        },
        {
            "cell_type": "code",
            "execution_count": null,
            "metadata": {},
            "outputs": [],
            "source": "sac_merged.loc[sac_merged['Cluster Labels'] == 0, sac_merged.columns[[0] + list(range(4, sac_merged.shape[1]))]]\n"
        },
        {
            "cell_type": "markdown",
            "metadata": {},
            "source": "### Cluster 2 Capital Area, Coffee Shops, Resaurants, Bars, Pizzerias:\n- This area is close to our State Capital, which is always hustling with California lawmakers and businesses.\n- Definitely would be busy at lunch time catering to the State government businesses\n- A Pizzeria in this area would benefit from high traffic, however there would be competing Pizzerias in this cluster\n- There are many different restaurant choices in this area as well, lots of competition for that traffic!"
        },
        {
            "cell_type": "code",
            "execution_count": null,
            "metadata": {},
            "outputs": [],
            "source": "sac_merged.loc[sac_merged['Cluster Labels'] == 1, sac_merged.columns[[0] + list(range(4, sac_merged.shape[1]))]]"
        },
        {
            "cell_type": "markdown",
            "metadata": {},
            "source": "### Cluster 3 Sac Zoo Area, Theme Park, Shops and Recreation:\n- This cluster is far from Sacramento City Center, so the foot traffic wouldn't be as high\n- Recreational Lake and Golf Course and just a few shops and restaurants\n- Patrons tend to eat while inside the Zoo or Theme Park\n- May not be the best fit for a new Pizzeria"
        },
        {
            "cell_type": "code",
            "execution_count": null,
            "metadata": {},
            "outputs": [],
            "source": "sac_merged.loc[sac_merged['Cluster Labels'] == 2, sac_merged.columns[[0] + list(range(4, sac_merged.shape[1]))]]"
        },
        {
            "cell_type": "markdown",
            "metadata": {},
            "source": "### Cluster 4 Bike Trail Area, Recreation, Restaurants and Shops:\n- This area is great for outdoor recreation\n- A few shops and restaurants, and no popular Pizzerias\n- Foot traffic would be lighter here than in the city center"
        },
        {
            "cell_type": "code",
            "execution_count": null,
            "metadata": {},
            "outputs": [],
            "source": "sac_merged.loc[sac_merged['Cluster Labels'] == 3, sac_merged.columns[[0] + list(range(4, sac_merged.shape[1]))]]"
        },
        {
            "cell_type": "markdown",
            "metadata": {},
            "source": "### Cluster 5 Crocker Museum Area, Coffee Shops, Restaurants, Shops & Park:\n- There isnt a popular Pizzeria in the immediate area according to my analysis\n- This is near highway, which could be convenient for Pizza delivery services\n- The Park and Farmers Market is always a big draw"
        },
        {
            "cell_type": "code",
            "execution_count": null,
            "metadata": {},
            "outputs": [],
            "source": "sac_merged.loc[sac_merged['Cluster Labels'] == 4, sac_merged.columns[[0] + list(range(4, sac_merged.shape[1]))]]"
        },
        {
            "cell_type": "markdown",
            "metadata": {},
            "source": "\n\n# Part 2 Explore Cities on the OUTSKIRTS of Sacramento\n"
        },
        {
            "cell_type": "markdown",
            "metadata": {},
            "source": "- Looking at U.S. Consensus data for top 20 most populated cities near Sacramento\n- Comparing each of the cities population and median family income to see if there is any correlation"
        },
        {
            "cell_type": "code",
            "execution_count": null,
            "metadata": {},
            "outputs": [],
            "source": "# The code was removed by Watson Studio for sharing."
        },
        {
            "cell_type": "code",
            "execution_count": null,
            "metadata": {},
            "outputs": [],
            "source": "fig, ax = pyplot.subplots(figsize=(12,10))\nplot=sns.set_style(\"whitegrid\")\nsns.set_context(\"paper\", rc={\"font.size\":20, \"axes.titlesize\":30, \"axes.labelsize\":20})\n#sns.set(rc={'figure.figsize':(11.7,8.27),\"font.size\":20,\"axes.titlesize\":20,\"axes.labelsize\":20},style=\"white\")\nax.set_title(\"Median Family Income Boxplot\")\nax=sns.boxplot(x=df[\"Median_Income\"])\nax.set(xlabel=\"Median Family Income\")\nax.set(ylabel=\"Min, Middle, Max Values\")\n"
        },
        {
            "cell_type": "code",
            "execution_count": null,
            "metadata": {},
            "outputs": [],
            "source": "fig, ax = pyplot.subplots(figsize=(12,10))\nplot=sns.set_style(\"whitegrid\")\nsns.set_context(\"paper\", rc={\"font.size\":20,\"axes.titlesize\":30,\"axes.labelsize\":20})\n#sns.set(rc={'figure.figsize':(11.7,8.27),\"font.size\":20,\"axes.titlesize\":20,\"axes.labelsize\":20},style=\"white\")\nax.set_title(\"Population Boxplot\")\nax=sns.boxplot(x=df[\"Population\"])\nax.set(xlabel=\"Population\")\nax.set(ylabel=\"Min, Middle, Max Values\")"
        },
        {
            "cell_type": "code",
            "execution_count": null,
            "metadata": {},
            "outputs": [],
            "source": "fig, ax = pyplot.subplots(figsize=(12,10))\ndf['Population'].plot(kind='hist')\ndf['Population'].plot.hist()\nax.set_title(\"Population Histogram\")\nax.set(xlabel=\"Population\")\nax.set(ylabel=\"# of Cities\")\n"
        },
        {
            "cell_type": "code",
            "execution_count": null,
            "metadata": {},
            "outputs": [],
            "source": "fig, ax = pyplot.subplots(figsize=(12,10))\ndf['Median_Income'].plot(kind='hist')\ndf['Median_Income'].plot.hist()\nax.set_title(\"Median Family Income Histogram\")\nax.set(xlabel=\"Median Family Income\")\nax.set(ylabel=\"# of Cities\")\n\n"
        },
        {
            "cell_type": "code",
            "execution_count": null,
            "metadata": {},
            "outputs": [],
            "source": "fig, ax = pyplot.subplots(figsize=(12,10))\nplot=sns.regplot(x=\"Population\", y='Median_Income', data=df)\nax.set_title(\"Population:Income Scatterplot and Line of Regression\")\nax.set(xlabel=\"Population\")\nax.set(ylabel=\"Median Family Income\")"
        },
        {
            "cell_type": "markdown",
            "metadata": {},
            "source": "### Analysis of Population and Median Family Income:"
        },
        {
            "cell_type": "markdown",
            "metadata": {},
            "source": "- The Regression Plot on Population vs Median_Income suggests that there is a positive correlation between the two variables\n- This means that the cities with a larger population, also have a larger median family income\n- If you choose to build your Pizzeria in the outskirts of Sacramento, I suggest choosing one with a larger population.\n- Let's chose the top 5 highest populated cities outside sacramento and explore them more closely..."
        },
        {
            "cell_type": "markdown",
            "metadata": {},
            "source": "# Top 5 largest populated cities to explore: \n1. Elk Grove...............(pop. 174,775)\n2. Roseville................(pop. 141,500)\n3. Citrus Heights........(pop... 87,796)\n3. Folsom...................(pop... 81,328)\n4. Rancho Cordova....(pop... 75,087)\n"
        },
        {
            "cell_type": "markdown",
            "metadata": {},
            "source": "## Explorations:\n- First, I will identify the Top 5 most frequented venue categories around each City\n- Then we can discover the top 10 most popular venues around each City\n- Finally, we can use K-means clustering to map out meaningful groupings to gain new insights"
        },
        {
            "cell_type": "code",
            "execution_count": 5,
            "metadata": {
                "scrolled": true
            },
            "outputs": [
                {
                    "ename": "NameError",
                    "evalue": "name 'client_bc9e2ea9ed334541b53ed28bd585cd05' is not defined",
                    "output_type": "error",
                    "traceback": [
                        "\u001b[0;31m---------------------------------------------------------------------------\u001b[0m",
                        "\u001b[0;31mNameError\u001b[0m                                 Traceback (most recent call last)",
                        "\u001b[0;32m<ipython-input-5-c6a8e54755e3>\u001b[0m in \u001b[0;36m<module>\u001b[0;34m\u001b[0m\n\u001b[0;32m----> 1\u001b[0;31m \u001b[0mbody\u001b[0m \u001b[0;34m=\u001b[0m \u001b[0mclient_bc9e2ea9ed334541b53ed28bd585cd05\u001b[0m\u001b[0;34m.\u001b[0m\u001b[0mget_object\u001b[0m\u001b[0;34m(\u001b[0m\u001b[0mBucket\u001b[0m\u001b[0;34m=\u001b[0m\u001b[0;34m'applieddatasciencecapstoneproject-donotdelete-pr-c7ardu3bm1b4ka'\u001b[0m\u001b[0;34m,\u001b[0m\u001b[0mKey\u001b[0m\u001b[0;34m=\u001b[0m\u001b[0;34m'Cities.csv'\u001b[0m\u001b[0;34m)\u001b[0m\u001b[0;34m[\u001b[0m\u001b[0;34m'Body'\u001b[0m\u001b[0;34m]\u001b[0m\u001b[0;34m\u001b[0m\u001b[0;34m\u001b[0m\u001b[0m\n\u001b[0m\u001b[1;32m      2\u001b[0m \u001b[0;31m# add missing __iter__ method, so pandas accepts body as file-like object\u001b[0m\u001b[0;34m\u001b[0m\u001b[0;34m\u001b[0m\u001b[0;34m\u001b[0m\u001b[0m\n\u001b[1;32m      3\u001b[0m \u001b[0;32mif\u001b[0m \u001b[0;32mnot\u001b[0m \u001b[0mhasattr\u001b[0m\u001b[0;34m(\u001b[0m\u001b[0mbody\u001b[0m\u001b[0;34m,\u001b[0m \u001b[0;34m\"__iter__\"\u001b[0m\u001b[0;34m)\u001b[0m\u001b[0;34m:\u001b[0m \u001b[0mbody\u001b[0m\u001b[0;34m.\u001b[0m\u001b[0m__iter__\u001b[0m \u001b[0;34m=\u001b[0m \u001b[0mtypes\u001b[0m\u001b[0;34m.\u001b[0m\u001b[0mMethodType\u001b[0m\u001b[0;34m(\u001b[0m \u001b[0m__iter__\u001b[0m\u001b[0;34m,\u001b[0m \u001b[0mbody\u001b[0m \u001b[0;34m)\u001b[0m\u001b[0;34m\u001b[0m\u001b[0;34m\u001b[0m\u001b[0m\n\u001b[1;32m      4\u001b[0m \u001b[0;34m\u001b[0m\u001b[0m\n\u001b[1;32m      5\u001b[0m \u001b[0mdf2\u001b[0m \u001b[0;34m=\u001b[0m \u001b[0mpd\u001b[0m\u001b[0;34m.\u001b[0m\u001b[0mread_csv\u001b[0m\u001b[0;34m(\u001b[0m\u001b[0mbody\u001b[0m\u001b[0;34m)\u001b[0m\u001b[0;34m\u001b[0m\u001b[0;34m\u001b[0m\u001b[0m\n",
                        "\u001b[0;31mNameError\u001b[0m: name 'client_bc9e2ea9ed334541b53ed28bd585cd05' is not defined"
                    ]
                }
            ],
            "source": "\nbody = client_bc9e2ea9ed334541b53ed28bd585cd05.get_object(Bucket='applieddatasciencecapstoneproject-donotdelete-pr-c7ardu3bm1b4ka',Key='Cities.csv')['Body']\n# add missing __iter__ method, so pandas accepts body as file-like object\nif not hasattr(body, \"__iter__\"): body.__iter__ = types.MethodType( __iter__, body )\n\ndf2 = pd.read_csv(body)\ndf2.head()\n"
        },
        {
            "cell_type": "code",
            "execution_count": null,
            "metadata": {},
            "outputs": [],
            "source": "names = df2.values.tolist()"
        },
        {
            "cell_type": "code",
            "execution_count": null,
            "metadata": {},
            "outputs": [],
            "source": "names"
        },
        {
            "cell_type": "code",
            "execution_count": null,
            "metadata": {},
            "outputs": [],
            "source": "# Used geolocator and used a loop to search for, intentify longitude and latitude, then populate a dataframe\nLatitude2 = []\nLongitude2 = []\n\nfor name in names:\n    geolocator = Nominatim(user_agent=\"foursquare_agent\")\n    location = geolocator.geocode(name)\n    latitude = location.latitude\n    longitude = location.longitude\n    print(f'{name}: [{latitude}, {longitude}]')\n    Latitude2.append(latitude)\n    Longitude2.append(longitude)        \n        \nprint('\\n')\nprint('DataFrames Latitude2 & Longitude2 have been updated.')"
        },
        {
            "cell_type": "code",
            "execution_count": null,
            "metadata": {},
            "outputs": [],
            "source": "Cities = pd.DataFrame({'City':names, 'Latitude':Latitude2, 'Longitude': Longitude2})\nCities"
        },
        {
            "cell_type": "code",
            "execution_count": null,
            "metadata": {
                "scrolled": true
            },
            "outputs": [],
            "source": "Cities[0,0] = 'Elk Grove'   #df.ix['x','C']\n\n#df2 = pd.DataFrame({'filename' :  'test2.dat', 'n':16}, index=[0])"
        },
        {
            "cell_type": "code",
            "execution_count": null,
            "metadata": {},
            "outputs": [],
            "source": "Cities"
        },
        {
            "cell_type": "code",
            "execution_count": null,
            "metadata": {},
            "outputs": [],
            "source": "Cities[1,0] = 'Roseville' "
        },
        {
            "cell_type": "code",
            "execution_count": null,
            "metadata": {},
            "outputs": [],
            "source": "Cities[0,2] = 'Citrus Heights' "
        },
        {
            "cell_type": "code",
            "execution_count": null,
            "metadata": {},
            "outputs": [],
            "source": "Cities[0,3] = 'Davis'"
        },
        {
            "cell_type": "code",
            "execution_count": null,
            "metadata": {},
            "outputs": [],
            "source": "Cities[0,4] = 'Folsom'"
        },
        {
            "cell_type": "code",
            "execution_count": null,
            "metadata": {},
            "outputs": [],
            "source": "Cities[0,5] = 'Rancho Cordova' "
        },
        {
            "cell_type": "code",
            "execution_count": null,
            "metadata": {},
            "outputs": [],
            "source": "Cities[0,6] = 'Rocklin'"
        },
        {
            "cell_type": "code",
            "execution_count": null,
            "metadata": {},
            "outputs": [],
            "source": "Cities[0,7] = 'Woodland'"
        },
        {
            "cell_type": "code",
            "execution_count": null,
            "metadata": {},
            "outputs": [],
            "source": "Cities[0,8] = 'Yuba City'"
        },
        {
            "cell_type": "code",
            "execution_count": null,
            "metadata": {},
            "outputs": [],
            "source": "Cities[0,9] = 'Auburn'"
        },
        {
            "cell_type": "code",
            "execution_count": null,
            "metadata": {},
            "outputs": [],
            "source": "Cities[0,10] = 'Galt'"
        },
        {
            "cell_type": "code",
            "execution_count": null,
            "metadata": {},
            "outputs": [],
            "source": "Cities[0,11] = 'Grass Valley'"
        },
        {
            "cell_type": "code",
            "execution_count": null,
            "metadata": {},
            "outputs": [],
            "source": "Cities[0,12] = 'Lincoln'"
        },
        {
            "cell_type": "code",
            "execution_count": null,
            "metadata": {},
            "outputs": [],
            "source": "Cities[0,13] = 'Marysville'"
        },
        {
            "cell_type": "code",
            "execution_count": null,
            "metadata": {},
            "outputs": [],
            "source": "Cities[0,14] = 'Placerville'"
        },
        {
            "cell_type": "code",
            "execution_count": null,
            "metadata": {},
            "outputs": [],
            "source": "Cities[0,15] = 'South Lake Tahoe'"
        },
        {
            "cell_type": "code",
            "execution_count": null,
            "metadata": {},
            "outputs": [],
            "source": "Cities[0,16] = 'Truckee'"
        },
        {
            "cell_type": "code",
            "execution_count": null,
            "metadata": {},
            "outputs": [],
            "source": "Cities[0,17] = 'West Sacramento'"
        },
        {
            "cell_type": "code",
            "execution_count": null,
            "metadata": {},
            "outputs": [],
            "source": "Cities[0,18] = 'Live Oak'"
        },
        {
            "cell_type": "code",
            "execution_count": null,
            "metadata": {},
            "outputs": [],
            "source": "Cities[0,19] = 'Loomis'"
        },
        {
            "cell_type": "code",
            "execution_count": null,
            "metadata": {},
            "outputs": [],
            "source": "Cities"
        },
        {
            "cell_type": "code",
            "execution_count": null,
            "metadata": {},
            "outputs": [],
            "source": ""
        }
    ],
    "metadata": {
        "kernelspec": {
            "display_name": "Python 3.7",
            "language": "python",
            "name": "python3"
        },
        "language_info": {
            "codemirror_mode": {
                "name": "ipython",
                "version": 3
            },
            "file_extension": ".py",
            "mimetype": "text/x-python",
            "name": "python",
            "nbconvert_exporter": "python",
            "pygments_lexer": "ipython3",
            "version": "3.7.9"
        }
    },
    "nbformat": 4,
    "nbformat_minor": 1
}